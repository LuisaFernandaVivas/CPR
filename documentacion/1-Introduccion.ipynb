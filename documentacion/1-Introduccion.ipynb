{
 "cells": [
  {
   "cell_type": "markdown",
   "metadata": {},
   "source": [
    "## 1 - INTRODUCCIÓN"
   ]
  },
  {
   "cell_type": "markdown",
   "metadata": {},
   "source": [
    "cpr es un repositorio con funciones y clases para la realización de: Consultas, plots y reportes de las estaciones y los modelos que administra hidrología"
   ]
  },
  {
   "cell_type": "markdown",
   "metadata": {},
   "source": [
    "## Instalación del repositorio"
   ]
  },
  {
   "cell_type": "markdown",
   "metadata": {},
   "source": [
    "Se debe usar el siguiente comando en la terminal\n",
    "\n",
    "git clone https://github.com/marcae777/CPR.git\n",
    "el comando creará una carpeta llamada CPR que contiene el repositorio, en esta hay un archivo de instalación que se llama setup.py que es el que instalará la librería cpr,\n",
    "para instalarla se usa la siguiente linea de comando en la terminal\n",
    "\n",
    "- sudo python setup.py install\n",
    "\n",
    "Si la instalación se llevó a cabo correctamente, se podrá importar el módulo desde cualquier carpeta del sistema"
   ]
  },
  {
   "cell_type": "markdown",
   "metadata": {},
   "source": [
    "Para importar el módulo"
   ]
  },
  {
   "cell_type": "code",
   "execution_count": 1,
   "metadata": {
    "collapsed": true
   },
   "outputs": [],
   "source": [
    "import cprv1.cprv1 as cpr"
   ]
  },
  {
   "cell_type": "markdown",
   "metadata": {},
   "source": [
    "## 1.1 Introducción al lenguaje orientado a objetos (OOP)\n",
    "Cpr es un módulo que utiliza lenguaje orientado a objetos con la finalidad de reutilizar códigos importantes como el wmf de Nicolás.\n",
    "OOP Se utiliza para agrupar de forma lógica datos, funciones y variables que tienen características similares.\n",
    "- Clases (class): Son modelos que determinan la funcionalidad del objeto\n",
    "- Objeto e instance: \n",
    "    - Propiedades: Características intrínsicas del objeto\n",
    "    - Métodos: Funciones que tienen asociada una clase\n"
   ]
  },
  {
   "cell_type": "markdown",
   "metadata": {},
   "source": [
    "Cuál es la diferencia entre objeto e instance?\n",
    "[Mejor respuesta en stackoverflow](https://stackoverflow.com/questions/3323330/difference-between-object-and-instance)"
   ]
  },
  {
   "cell_type": "markdown",
   "metadata": {},
   "source": [
    "## 1.1.1 Clases\n",
    "Ejemplo, se requiere crear un modelo para administrar información de los empleados de siata, la forma de construirlo es la siguiente"
   ]
  },
  {
   "cell_type": "code",
   "execution_count": 46,
   "metadata": {
    "collapsed": true
   },
   "outputs": [],
   "source": [
    "class Empleado:\n",
    "    pass"
   ]
  },
  {
   "cell_type": "code",
   "execution_count": 47,
   "metadata": {
    "collapsed": true
   },
   "outputs": [],
   "source": [
    "cuervo = Empleado()"
   ]
  },
  {
   "cell_type": "code",
   "execution_count": 48,
   "metadata": {},
   "outputs": [
    {
     "data": {
      "text/plain": [
       "<__main__.Empleado instance at 0x7fdd5c0f0fc8>"
      ]
     },
     "execution_count": 48,
     "metadata": {},
     "output_type": "execute_result"
    }
   ],
   "source": [
    "cuervo"
   ]
  },
  {
   "cell_type": "markdown",
   "metadata": {},
   "source": [
    "nos dice que cuervo es un instance de una clase que se llama empleado"
   ]
  },
  {
   "cell_type": "code",
   "execution_count": 49,
   "metadata": {
    "collapsed": true
   },
   "outputs": [],
   "source": [
    "# se definen propiedades así \n",
    "cuervo.nombre = 'Carlos'\n",
    "cuervo.apellido = 'Cuervo'"
   ]
  },
  {
   "cell_type": "code",
   "execution_count": 50,
   "metadata": {},
   "outputs": [
    {
     "data": {
      "text/plain": [
       "'Carlos'"
      ]
     },
     "execution_count": 50,
     "metadata": {},
     "output_type": "execute_result"
    }
   ],
   "source": [
    "cuervo.nombre"
   ]
  },
  {
   "cell_type": "code",
   "execution_count": 51,
   "metadata": {},
   "outputs": [
    {
     "data": {
      "text/plain": [
       "'Cuervo'"
      ]
     },
     "execution_count": 51,
     "metadata": {},
     "output_type": "execute_result"
    }
   ],
   "source": [
    "cuervo.apellido"
   ]
  },
  {
   "cell_type": "code",
   "execution_count": 52,
   "metadata": {
    "collapsed": true
   },
   "outputs": [],
   "source": [
    "cuervo.salario = 100000000"
   ]
  },
  {
   "cell_type": "markdown",
   "metadata": {},
   "source": [
    "las propiedades también se pueden definir desde el modelo"
   ]
  },
  {
   "cell_type": "code",
   "execution_count": 53,
   "metadata": {
    "collapsed": true
   },
   "outputs": [],
   "source": [
    "class Empleado:\n",
    "    def __init__(self,nombre,apellido,salario):\n",
    "        self.nombre = nombre\n",
    "        self.apellido = apellido\n",
    "        self.salario = salario"
   ]
  },
  {
   "cell_type": "code",
   "execution_count": 54,
   "metadata": {
    "collapsed": true
   },
   "outputs": [],
   "source": [
    "cuervo = Empleado('Carlos','Cuervo',100000000)"
   ]
  },
  {
   "cell_type": "code",
   "execution_count": 55,
   "metadata": {},
   "outputs": [
    {
     "data": {
      "text/plain": [
       "'Carlos'"
      ]
     },
     "execution_count": 55,
     "metadata": {},
     "output_type": "execute_result"
    }
   ],
   "source": [
    "cuervo.nombre"
   ]
  },
  {
   "cell_type": "code",
   "execution_count": 56,
   "metadata": {},
   "outputs": [
    {
     "data": {
      "text/plain": [
       "'Cuervo'"
      ]
     },
     "execution_count": 56,
     "metadata": {},
     "output_type": "execute_result"
    }
   ],
   "source": [
    "cuervo.apellido"
   ]
  },
  {
   "cell_type": "code",
   "execution_count": 57,
   "metadata": {},
   "outputs": [
    {
     "data": {
      "text/plain": [
       "100000000"
      ]
     },
     "execution_count": 57,
     "metadata": {},
     "output_type": "execute_result"
    }
   ],
   "source": [
    "cuervo.salario"
   ]
  },
  {
   "cell_type": "markdown",
   "metadata": {},
   "source": [
    "## 1.1.2  Métodos"
   ]
  },
  {
   "cell_type": "code",
   "execution_count": 58,
   "metadata": {
    "collapsed": true
   },
   "outputs": [],
   "source": [
    "class Empleado:\n",
    "    def __init__(self,nombre,apellido,salario):\n",
    "        self.nombre = nombre\n",
    "        self.apellido = apellido\n",
    "        self.salario = salario\n",
    "        \n",
    "    def email(self):\n",
    "        return ('%s.%s@siata.gov.co'%(self.nombre,self.apellido)).lower()"
   ]
  },
  {
   "cell_type": "markdown",
   "metadata": {},
   "source": [
    "email es una función, que en el caso de OOP recibe el nombre de método o (method)"
   ]
  },
  {
   "cell_type": "code",
   "execution_count": 59,
   "metadata": {},
   "outputs": [
    {
     "data": {
      "text/plain": [
       "'carlos.cuervo@siata.gov.co'"
      ]
     },
     "execution_count": 59,
     "metadata": {},
     "output_type": "execute_result"
    }
   ],
   "source": [
    "cuervo = Empleado('Carlos','Cuervo',1000)\n",
    "cuervo.email()"
   ]
  },
  {
   "cell_type": "markdown",
   "metadata": {},
   "source": [
    "## 1.1.3 Subclases\n",
    "\n",
    "### inheritance\n",
    "\n",
    "una de las principales características de las clases es que pueden heredar propiedades y la funcionalidad de otras clases, a esto se le llama inheritance"
   ]
  },
  {
   "cell_type": "code",
   "execution_count": 60,
   "metadata": {
    "collapsed": true
   },
   "outputs": [],
   "source": [
    "class Operacional(Empleado):\n",
    "    pass"
   ]
  },
  {
   "cell_type": "code",
   "execution_count": 61,
   "metadata": {},
   "outputs": [
    {
     "data": {
      "text/plain": [
       "'carlos'"
      ]
     },
     "execution_count": 61,
     "metadata": {},
     "output_type": "execute_result"
    }
   ],
   "source": [
    "Operacional('carlos','cuervo',10000).nombre"
   ]
  },
  {
   "cell_type": "markdown",
   "metadata": {},
   "source": [
    "Operacional es una clase que heredó las propiedades de otra clase llamada Empleado, pero que al ser definidos se convierten en objetos distintos."
   ]
  },
  {
   "cell_type": "markdown",
   "metadata": {},
   "source": [
    "### ejemplo"
   ]
  },
  {
   "cell_type": "code",
   "execution_count": 62,
   "metadata": {
    "collapsed": true
   },
   "outputs": [],
   "source": [
    "class Empleado:\n",
    "    def __init__(self,nombre): # nombre es el argumento principal\n",
    "        self.nombre = nombre  # propiedades\n",
    "        self.empresa= 'siata'\n",
    "        \n",
    "    def method(self,salario): # en OOP se habla de MÉTODOS no de funciones\n",
    "        return 'el salario de %s es %s'%(self.nombre,salario)\n",
    "\n",
    "class Operacional(Empleado): # Operacional es una subclase de la clase principal Empleado\n",
    "    def __init__(self,nombre,turno):\n",
    "        Empleado.__init__(self,nombre)\n",
    "        self.turno = turno"
   ]
  },
  {
   "cell_type": "code",
   "execution_count": 65,
   "metadata": {},
   "outputs": [],
   "source": [
    "operacional = Operacional('Mario','Miercoles')"
   ]
  },
  {
   "cell_type": "code",
   "execution_count": 69,
   "metadata": {},
   "outputs": [
    {
     "data": {
      "text/plain": [
       "'Mario'"
      ]
     },
     "execution_count": 69,
     "metadata": {},
     "output_type": "execute_result"
    }
   ],
   "source": [
    "operacional.nombre #note que operacional heredó las propiedades de la clase Empleado"
   ]
  },
  {
   "cell_type": "code",
   "execution_count": 71,
   "metadata": {},
   "outputs": [
    {
     "data": {
      "text/plain": [
       "'Miercoles'"
      ]
     },
     "execution_count": 71,
     "metadata": {},
     "output_type": "execute_result"
    }
   ],
   "source": [
    "operacional.turno # sin embargo tiene una propiedad llamada turno, que no la tiene la clase Empleado"
   ]
  },
  {
   "cell_type": "markdown",
   "metadata": {},
   "source": [
    "### veamos como funciona esto en el cpr\n",
    "Cpr utiliza una clase llamada SqlDb, para manipular bases de datos sql, tiene opciones de SELECT, INSERT, DROP, UPDATE etc.."
   ]
  },
  {
   "attachments": {
    "image.png": {
     "image/png": "[encoded data removed]"
    }
   },
   "cell_type": "markdown",
   "metadata": {},
   "source": [
    "![image.png](attachment:image.png)"
   ]
  },
  {
   "cell_type": "markdown",
   "metadata": {},
   "source": [
    "Cpr hereda las propiedades de SqlDb y del wmf de Nicolás"
   ]
  },
  {
   "attachments": {
    "image.png": {
     "image/png": "[encoded data removed]"
    }
   },
   "cell_type": "markdown",
   "metadata": {},
   "source": [
    "![image.png](attachment:image.png)"
   ]
  }
 ],
 "metadata": {
  "kernelspec": {
   "display_name": "Python 2",
   "language": "python",
   "name": "python2"
  },
  "language_info": {
   "codemirror_mode": {
    "name": "ipython",
    "version": 2
   },
   "file_extension": ".py",
   "mimetype": "text/x-python",
   "name": "python",
   "nbconvert_exporter": "python",
   "pygments_lexer": "ipython2",
   "version": "2.7.6"
  }
 },
 "nbformat": 4,
 "nbformat_minor": 2
}
