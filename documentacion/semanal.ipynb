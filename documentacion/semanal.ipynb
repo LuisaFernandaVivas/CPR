{
 "cells": [
  {
   "cell_type": "markdown",
   "metadata": {},
   "source": [
    "las estaciones puente 33, puente de la aguacatala, puente fundadores de copacabana, Aula ambiental, la presidenta, y la sabanetica reportaron niveles de riesgo rojo.\n",
    "los días miéroles y viernes fueron los más ajetreados\n",
    "\n",
    "\n",
    "El día miércoles la estación puente de la 33 reportó el nivel de alerta rojo, llegando a desbordarse por la margen\n",
    "derecha mirando hacia agaus abajo.\n",
    "el día sábado se presentaron lluvias prolongadas\n",
    "el domingo \n",
    "\n",
    "\n",
    "a pesar de que las intensidades y el acumulado de lluvia fue mayor el día lunes, la respuesta se dio el día siguiente\n",
    "en el evento de lluvia que comenzó,\n",
    "condiciones de humedad precedentes\n",
    "flujo sobre el río\n",
    "desbordamiento de l as quebradas....\n",
    "y niveles de alerta rojo para ......\n",
    "\n",
    "las mayores intensidades entre el día sábado y domingo\n",
    "y estaciones ... reportaron rojo\n",
    "\n",
    "lluvias sobre tdo el valle\n",
    "Lunes acumulados superiores a los 130 mm, en la zona norte mirar si quebradas sufrieron\n",
    "martes, salado, quebrada ovejas, la lopez y la , poblado ana días, la clara\n",
    "\n",
    "miércoles y jueves nucleos de alta intensidad en norte y bajas acumulados inferiores a 30 ene sur\n",
    "viernes doña maría santa elena y sur\n",
    "\n",
    "sabado norte en barbosa y desde bello hasta el sur 50 mm en promedio.\n",
    "\n",
    "domingo llueve en el norte\n",
    "\n",
    "\n",
    "http://siata.gov.co/mario/gifs/201805151400-201805151800-93-sample_user-gif.gif\n",
    "\n",
    "\n",
    "#EVENTO\n",
    "\n",
    "parte alta y baja de la red de drenaje de la quebrada doña maría, la dera oriental, y el centro del la canalización del río medellín a la altura del puente de la aguacatala, donde se registraron nivel de alerta roja. el agua llega rápidamente a la estación puente de la 33 alcanzando a desbordarse por la banca derecha mirando hacia aguas abajo.\n",
    "3 metros\n",
    "\n",
    "314.0 cm nivel 15:55 pm \n",
    "20 minutos, 8.04 mm/h, "
   ]
  },
  {
   "cell_type": "code",
   "execution_count": 25,
   "metadata": {},
   "outputs": [
    {
     "name": "stdout",
     "output_type": "stream",
     "text": [
      "El ancho del canvas 1683.77952756\n",
      "El alto del canvas 1190.5511811\n",
      "\n",
      "Recordar ACTUALIZAR evento de precipitación de la SEMANA ---!\n",
      "\n",
      "No hay GRAFICA de QR en seccion nivel\n",
      "\n",
      "Link dos: recordar actualizar link nivel\n",
      "\n",
      "\n",
      " FINISH \n",
      "\n"
     ]
    }
   ],
   "source": [
    "#!/usr/bin/env python\n",
    "# encoding: utf-8\n",
    "\n",
    "import numpy as np\n",
    "import matplotlib as mpl\n",
    "mpl.use(\"Agg\")\n",
    "import matplotlib.pyplot as plt\n",
    "import matplotlib.font_manager as fm\n",
    "from   pyPdf import PdfFileWriter, PdfFileReader\n",
    "from   reportlab.pdfgen import canvas\n",
    "from   StringIO import StringIO\n",
    "import scipy.ndimage\n",
    "import datetime as dt\n",
    "import os\n",
    "import sys\n",
    "import io\n",
    "from   reportlab.pdfbase import pdfmetrics\n",
    "from   reportlab.pdfbase.ttfonts import TTFont\n",
    "import locale\n",
    "from   reportlab.lib.pagesizes import landscape, A4, LETTER, A0, A1, A2, A3, A5, inch\n",
    "from   reportlab.lib.styles import ParagraphStyle\n",
    "from   reportlab.lib.enums import TA_JUSTIFY,TA_LEFT\n",
    "from   reportlab.platypus import Paragraph, SimpleDocTemplate, Table, TableStyle\n",
    "from   reportlab.lib import colors\n",
    "\n",
    "def make_header(canva, size_x, size_y, dx, dy, RGB1, RGB2, path_logo, title_pdf, str_week):\n",
    "    '''\n",
    "    Esta funcion crea el encabezado con el titulo del reporte con los logos\n",
    "    '''\n",
    "    norm_RGB = np.array(RGB1)/255.\n",
    "    canva.setFillColorRGB(norm_RGB[0], norm_RGB[1], norm_RGB[2])\n",
    "    canva.rect(size_x - dx, size_y - dy+40., dx, dy, fill = True, stroke = False)\n",
    "\n",
    "\n",
    "    norm_RGB = np.array(RGB2)/255.\n",
    "    canva.setFillColorRGB(norm_RGB[0], norm_RGB[1], norm_RGB[2])\n",
    "    canva.rect(size_x - dx, size_y - dy, dx, dy-140., fill = True, stroke = False)\n",
    "\n",
    "    canva.setFillColorRGB(1,1,1)\n",
    "    canva.setFont(\"Avenir_blk\", 34)\n",
    "    canva.drawString(size_x - dx + 300, size_y - dy + 100., title_pdf)\n",
    "\n",
    "    canva.setFillColorRGB(1,1,1)\n",
    "    canva.setFont(\"Avenir_blk\", 22)\n",
    "    canva.drawString(size_x - 650, size_y - dy+15., str_week)\n",
    "\n",
    "    canva.drawImage(path_logo+'logos/Franja_logos_03.png', \\\n",
    "                    size_x - dx, size_y - dy, dy+70., dy, mask = 'auto')\n",
    "\n",
    "def make_footer(canva, size_x, size_y, dx, dy, RGB, path_logo):\n",
    "    norm_RGB = np.array(RGB)/255.\n",
    "    canva.setFillColorRGB(norm_RGB[0], norm_RGB[1], norm_RGB[2])\n",
    "    canva.rect(size_x, size_y, dx, dy, fill = 1)\n",
    "    canva.drawImage(path_logo+'logos/Franja_logos_franja_de_logos.png', \\\n",
    "                    416, 0, 850, 120, mask = 'auto')\n",
    "\n",
    "#-----------------------------------------------------------------------------------------------\n",
    "# Se define la fechas para la cual se corre el informe\n",
    "#-----------------------------------------------------------------------------------------------\n",
    "locale.setlocale(locale.LC_TIME, 'es_CO.UTF-8')\n",
    "path_reps = '/media/nicolas/Home/Jupyter/MarioLoco/repositories/CPR/documentacion/'\n",
    "path_elem ='/media/nicolas/Home/Jupyter/MarioLoco/repositories/CPR/documentacion/'\n",
    "str_semana = 'Semana: 14 de mayo hasta 20 de mayo de 2018'\n",
    "\n",
    "#-----------------------------------------------------------------------------------------------\n",
    "# Parametros necesarios para hacer el reporte\n",
    "#-----------------------------------------------------------------------------------------------\n",
    "#path_elem = '/home/atlas/informe_hidromet/20180205_20180211/'\n",
    "#path_reps = '/home/atlas/informe_hidromet/20180205_20180211/Informe/'\n",
    "\n",
    "# Se define el tipo de letra con el que se va a trabjar\n",
    "# en este caso sera Avenir.\n",
    "barcode_font = path_reps+'avenir/AvenirLTStd-Roman.ttf'\n",
    "pdfmetrics.registerFont(TTFont(\"Avenir\", barcode_font))\n",
    "barcode_font_blk = path_reps+'avenir/AvenirLTStd-Black.ttf'\n",
    "pdfmetrics.registerFont(TTFont(\"Avenir_blk\", barcode_font_blk))\n",
    "# Se define el RGB de los colores a utilizar\n",
    "color_RGB1 = [34, 71, 94] # Azul franja principal superior\n",
    "color_RGB2 = [9, 32, 46] # Azul del banner de los logos y logos siata\n",
    "color_RGB3 = [31, 115, 116] # Banda pequeña azul claro\n",
    "color_RGB4 = [55, 123, 148]\n",
    "color_piezas = [148,203,216]\n",
    "color_subtitulos = (31/255.,115/225.,116/225.)\n",
    "\n",
    "gris70 =     (112/255., 111/255., 111/255.)\n",
    "ColorInfo1 = (82 /255., 183/255.,196/255.)\n",
    "ColorInfo2 = (55 /255., 123/255.,148/255.)\n",
    "ColorInfo3 = (43 /255., 72/255.,105/255.)\n",
    "ColorInfo4 = (32 /255., 34/255., 72/255.)\n",
    "ColorInfo5 = (34 /255., 71/255., 94/255.)\n",
    "ColorInfo6 = (31 /255., 115/255.,116/255.)\n",
    "ColorInfo7 = (39 /255., 165/255.,132/255.)\n",
    "ColorInfo8 = (139/255., 187/255.,116/255.)\n",
    "ColorInfo9 = (200/255., 209/255., 93/255.)\n",
    "ColorInfo10 =(249/255., 230/255., 57/255.)\n",
    "\n",
    "# ----------------------------------------------------------------------------------------------\n",
    "# Se establecen las medidas\n",
    "sizey, sizex = A2\n",
    "print 'El ancho del canvas', sizex\n",
    "print 'El alto del canvas', sizey\n",
    "\n",
    "\n",
    "style1 = ParagraphStyle(name='Justify', alignment=TA_JUSTIFY, fontName='Avenir', \\\n",
    "                        fontSize=15, leading = 18)\n",
    "\n",
    "style2 = ParagraphStyle(name='Justify', alignment=TA_JUSTIFY, fontName='Avenir', \\\n",
    "                        fontSize=15, leading = 18)\n",
    "\n",
    "style3 = ParagraphStyle(name='Justify',alignment=TA_LEFT, fontName='Avenir_blk',\\\n",
    "                        textColor= color_subtitulos, fontSize=17.5, leading = 24)\n",
    "\n",
    "style_clic = ParagraphStyle(name='Justify',alignment=TA_LEFT, fontName='Avenir', textColor= color_subtitulos, fontSize=15., leading = 24)\n",
    "\n",
    "style_resumen = ParagraphStyle(name='Justify',alignment=TA_JUSTIFY, fontName='Avenir',\\\n",
    "                        fontSize=18, leading = 21)\n",
    "\n",
    "\n",
    "\n",
    "print '\\nRecordar ACTUALIZAR evento de precipitación de la SEMANA ---!'\n",
    "#===========================#\n",
    "dia_evento_ppt = '20180515'\n",
    "#===========================#\n",
    "\n",
    "\n",
    "\n",
    "## ----------------------------------------------------------------------------------------------\n",
    "## Sección niveles\n",
    "##-----------------------------------------------------------------------------------------------\n",
    "pdf_rep_PPT = canvas.Canvas(path_reps+'Nivel.pdf')\n",
    "pdf_rep_PPT.setPageSize((sizex, sizey))\n",
    "title_pdf_PPT = u'INFORME HIDROMETEOROLÓGICO SEMANAL - Hidrología '\n",
    "make_header(pdf_rep_PPT, sizex, sizey, sizex, 180. , color_RGB2, color_RGB3, path_elem,\\\n",
    "           title_pdf_PPT, str_semana)\n",
    "make_footer(pdf_rep_PPT, 0, 0, sizex, 120. , color_RGB2, path_elem)\n",
    "\n",
    "# contenido panel 1\n",
    "pdf_rep_PPT.setFillColorRGB(color_RGB1[0]/255., color_RGB1[1]/255., color_RGB1[2]/255.)\n",
    "pdf_rep_PPT.rect(10., 550., 830., 415., fill = False, stroke = True)\n",
    "pdf_rep_PPT.rect(10., 940., 500., 50., fill = True, stroke = True)\n",
    "pdf_rep_PPT.setFillColorRGB(1,1,1)\n",
    "pdf_rep_PPT.setFont(\"Avenir\", 24)\n",
    "pdf_rep_PPT.drawString(25., 955.,'Resumen semanal de los niveles')\n",
    "\n",
    "#---Figura RIESGO ---#\n",
    "try:\n",
    "    pdf_rep_PPT.drawImage(path_elem+'niveles_riesgo.png', 20., 555., 400., 380., mask = 'auto',preserveAspectRatio = True)\n",
    "except:\n",
    "    print '\\nNo hay GRAFICA de riesgo de niveles'\n",
    "\n",
    "#---Texto RIESGO---#\n",
    "try:\n",
    "    texto_niv_riesgo = io.open(path_elem+'texto_riesgo.txt', 'r', encoding='utf-8')\n",
    "    texto_niv_riesgo = texto_niv_riesgo.read()\n",
    "    par1 = Paragraph(texto_niv_riesgo,style1)\n",
    "    par1.wrap(350, 520)\n",
    "    par1.drawOn(pdf_rep_PPT, 450., 600.)\n",
    "except:\n",
    "    print '\\nNo hay TEXTO de riesgo de niveles'\n",
    "    \n",
    "\n",
    "#---Pieza EDUCATIVA---#\n",
    "try:\n",
    "    pdf_rep_PPT.drawImage(path_elem+'Pieza_educativa_hidrologia.png', 10., 15.,830.,650., mask = 'auto',preserveAspectRatio = True)\n",
    "except:\n",
    "    print '\\nNo hay pieza educativa de hidrologia'\n",
    "\n",
    "# contenido panel 2\n",
    "pdf_rep_PPT.setFillColorRGB(color_RGB1[0]/255., color_RGB1[1]/255., color_RGB1[2]/255.)\n",
    "pdf_rep_PPT.rect(850., 150., 820., 815., fill = False, stroke = True)\n",
    "pdf_rep_PPT.rect(850., 940., 500., 50., fill = True, stroke = True)\n",
    "pdf_rep_PPT.setFillColorRGB(1,1,1)\n",
    "pdf_rep_PPT.setFont(\"Avenir\", 24)\n",
    "pdf_rep_PPT.drawString(860., 955., 'Reporte Niveles - Evento: 15 de mayo')\n",
    "\n",
    "try:\n",
    "    pdf_rep_PPT.drawImage(path_elem+'section_1.png', 855., 130., 810., 270., mask = 'auto',preserveAspectRatio = True)\n",
    "except:\n",
    "    print '\\nNo hay GRAFICA de seccion 1 de nivel'\n",
    "\n",
    "try:\n",
    "    pdf_rep_PPT.drawImage(path_elem+'section_2.png', 855., 345., 810., 270., mask = 'auto',preserveAspectRatio = True)\n",
    "except:\n",
    "    print '\\nNo hay GRAFICA de seccion 2 de nivel'\n",
    "\n",
    "try:\n",
    "    pdf_rep_PPT.drawImage(path_elem+'mapa_lluvia.png', 855., 600., 320., 320., mask = 'auto',preserveAspectRatio = True)\n",
    "except:\n",
    "    print '\\nNo hay GRAFICA de mapa de lluvia en seccion nivel' \n",
    "\n",
    "#---Texto NIVEL EVENTO---#\n",
    "#---Texto RIESGO---#\n",
    "try:\n",
    "    par1 = Paragraph('Cuenca Puente de la 33 - Medellín',style1)\n",
    "    par1.wrap(350, 520)\n",
    "    par1.drawOn(pdf_rep_PPT, 900., 890.)\n",
    "except:\n",
    "    print '\\nNo hay TEXTO de riesgo de niveles'\n",
    "\n",
    "try:\n",
    "    texto_niv_evento = io.open(path_elem+'texto_evento.txt', 'r', encoding='utf-8')\n",
    "    texto_niv_evento = texto_niv_evento.read()\n",
    "    par1 = Paragraph (texto_niv_evento, style1)\n",
    "    par1.wrap(400,500)\n",
    "    par1.drawOn(pdf_rep_PPT, 1230, 730)\n",
    "except:\n",
    "    print '\\nNo hay TEXTO de evento en seccion nivel'\n",
    "\n",
    "#Vainita del QR\n",
    "pdf_rep_PPT.setFillColorRGB(230/255., 230/255.,230/255.)\n",
    "pdf_rep_PPT.rect(1200., 600., 460., 100., fill = True, stroke = False)\n",
    "\n",
    "#---Texto QR---#\n",
    "try:\n",
    "    texto_niv_qr = io.open(path_elem+'QR.txt', 'r', encoding='utf-8')\n",
    "    texto_niv_qr = texto_niv_qr.read()\n",
    "    par_qr = Paragraph(texto_niv_qr, style2) \n",
    "    par_qr.wrap(400, 90)\n",
    "    par_qr.drawOn(pdf_rep_PPT, 1220., 630.5)\n",
    "except:\n",
    "    print '\\nNo hay TEXTO de QR en seccion nivel'\n",
    "\n",
    "#---QR---#\n",
    "try:\n",
    "    pdf_rep_PPT.drawImage(path_elem+'QR.png', 1205., 620., 75., 75., mask = 'auto',preserveAspectRatio = True)\n",
    "except:\n",
    "    print '\\nNo hay GRAFICA de QR en seccion nivel'\n",
    "\n",
    "print '\\nLink dos: recordar actualizar link nivel'\n",
    "address0 = 'Clic aquí'\n",
    "address = '<link href=\"' + 'http://siata.gov.co//mario/reportes_semanales/20180520/animacion.gif' + '\">' + address0 + '</link>'\n",
    "\n",
    "#niveles_20180326\n",
    "hyperlink = Paragraph(address, style_clic)\n",
    "hyperlink.wrap(475, 100)\n",
    "hyperlink.drawOn(pdf_rep_PPT, 1220., 598.)\n",
    "\n",
    "\n",
    "pdf_rep_PPT.save()\n",
    "\n",
    "\n",
    "# ---------------------------------------------------------------------------------------------\n",
    "# Se hace el merge de los diferentes reportes generados\n",
    "# ---------------------------------------------------------------------------------------------\n",
    "file8 = file (path_reps+'Nivel.pdf', 'rb')\n",
    "\n",
    "page2 = PdfFileReader (file8).getPage (0)\n",
    "\n",
    "output = PdfFileWriter()\n",
    "output.addPage(page2)\n",
    "\n",
    "\n",
    "print '\\n\\n FINISH \\n'\n",
    "\n",
    "\n",
    "#os.system('scp Nivel.pdf jmvalenciap@siata.gov.co:/var/www/jmvalenciap/Otros/')\n",
    "###***********************************************************************###"
   ]
  },
  {
   "cell_type": "code",
   "execution_count": 26,
   "metadata": {},
   "outputs": [
    {
     "data": {
      "text/plain": [
       "0"
      ]
     },
     "execution_count": 26,
     "metadata": {},
     "output_type": "execute_result"
    }
   ],
   "source": [
    "os.system('scp Nivel.pdf mcano@siata.gov.co:/var/www/mario/reportes_semanales/20180520/')"
   ]
  },
  {
   "cell_type": "code",
   "execution_count": null,
   "metadata": {
    "collapsed": true
   },
   "outputs": [],
   "source": []
  },
  {
   "cell_type": "code",
   "execution_count": null,
   "metadata": {
    "collapsed": true
   },
   "outputs": [],
   "source": []
  },
  {
   "cell_type": "code",
   "execution_count": null,
   "metadata": {
    "collapsed": true
   },
   "outputs": [],
   "source": []
  },
  {
   "cell_type": "code",
   "execution_count": null,
   "metadata": {
    "collapsed": true
   },
   "outputs": [],
   "source": []
  },
  {
   "cell_type": "code",
   "execution_count": null,
   "metadata": {
    "collapsed": true
   },
   "outputs": [],
   "source": []
  },
  {
   "cell_type": "code",
   "execution_count": 26,
   "metadata": {
    "collapsed": true
   },
   "outputs": [],
   "source": [
    "import cprv1.cprv1 as cpr\n",
    "codigo = 1013\n",
    "self = cpr.Nivel(codigo=codigo,user='sample_user',passwd='s@mple_p@ss')"
   ]
  },
  {
   "cell_type": "code",
   "execution_count": null,
   "metadata": {
    "collapsed": true
   },
   "outputs": [],
   "source": []
  },
  {
   "cell_type": "code",
   "execution_count": null,
   "metadata": {
    "collapsed": true
   },
   "outputs": [],
   "source": []
  },
  {
   "cell_type": "code",
   "execution_count": null,
   "metadata": {
    "collapsed": true
   },
   "outputs": [],
   "source": []
  },
  {
   "cell_type": "code",
   "execution_count": null,
   "metadata": {
    "collapsed": true
   },
   "outputs": [],
   "source": []
  },
  {
   "cell_type": "code",
   "execution_count": null,
   "metadata": {
    "collapsed": true
   },
   "outputs": [],
   "source": []
  },
  {
   "cell_type": "code",
   "execution_count": null,
   "metadata": {
    "collapsed": true
   },
   "outputs": [],
   "source": []
  },
  {
   "cell_type": "code",
   "execution_count": null,
   "metadata": {
    "collapsed": true
   },
   "outputs": [],
   "source": []
  },
  {
   "cell_type": "code",
   "execution_count": null,
   "metadata": {
    "collapsed": true
   },
   "outputs": [],
   "source": [
    ","
   ]
  },
  {
   "cell_type": "code",
   "execution_count": null,
   "metadata": {
    "collapsed": true
   },
   "outputs": [],
   "source": []
  }
 ],
 "metadata": {
  "kernelspec": {
   "display_name": "Python 2",
   "language": "python",
   "name": "python2"
  },
  "language_info": {
   "codemirror_mode": {
    "name": "ipython",
    "version": 2
   },
   "file_extension": ".py",
   "mimetype": "text/x-python",
   "name": "python",
   "nbconvert_exporter": "python",
   "pygments_lexer": "ipython2",
   "version": "2.7.6"
  }
 },
 "nbformat": 4,
 "nbformat_minor": 2
}
